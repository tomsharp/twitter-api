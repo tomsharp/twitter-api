{
 "nbformat": 4,
 "nbformat_minor": 2,
 "metadata": {
  "language_info": {
   "name": "python",
   "codemirror_mode": {
    "name": "ipython",
    "version": 3
   },
   "version": "3.7.4-final"
  },
  "orig_nbformat": 2,
  "file_extension": ".py",
  "mimetype": "text/x-python",
  "name": "python",
  "npconvert_exporter": "python",
  "pygments_lexer": "ipython3",
  "version": 3,
  "kernelspec": {
   "name": "python3",
   "display_name": "Python 3"
  }
 },
 "cells": [
  {
   "cell_type": "code",
   "execution_count": 1,
   "metadata": {},
   "outputs": [],
   "source": [
    "from Twitter import twitter"
   ]
  },
  {
   "cell_type": "markdown",
   "metadata": {},
   "source": [
    "### Search for keyword \"news\""
   ]
  },
  {
   "cell_type": "code",
   "execution_count": 2,
   "metadata": {},
   "outputs": [],
   "source": [
    "# connect to the Twitter api\n",
    "api = twitter.get_api(config_file='./twitter/config.yaml')\n",
    "\n",
    "# send request to the search/tweets endpoint\n",
    "response = twitter.request(api, endpoint='search/tweets', params={'q': 'news'})"
   ]
  },
  {
   "cell_type": "code",
   "execution_count": 3,
   "metadata": {},
   "outputs": [
    {
     "output_type": "stream",
     "name": "stdout",
     "text": "<class 'dict'>\ndict_keys(['statuses', 'search_metadata'])\n<class 'list'>\n15\n"
    }
   ],
   "source": [
    "# inspect response\n",
    "print(type(response))\n",
    "print(response.keys())\n",
    "\n",
    "print(type(response['statuses']))\n",
    "print(len(response['statuses']))"
   ]
  },
  {
   "cell_type": "code",
   "execution_count": 4,
   "metadata": {
    "tags": [
     "outputPrepend"
    ]
   },
   "outputs": [
    {
     "output_type": "execute_result",
     "data": {
      "text/plain": "{'created_at': 'Sun Apr 19 16:45:26 +0000 2020',\n 'id': 1251914815251111949,\n 'id_str': '1251914815251111949',\n 'text': \"Pence says reopening economy critical to ensure 'cure isn't worse than the disease' - Capitalism goes BUST when the… https://t.co/vVMIrX4Dxz\",\n 'truncated': True,\n 'entities': {'hashtags': [],\n  'symbols': [],\n  'user_mentions': [],\n  'urls': [{'url': 'https://t.co/vVMIrX4Dxz',\n    'expanded_url': 'https://twitter.com/i/web/status/1251914815251111949',\n    'display_url': 'twitter.com/i/web/status/1…',\n    'indices': [117, 140]}]},\n 'metadata': {'iso_language_code': 'en', 'result_type': 'recent'},\n 'source': '<a href=\"http://twitter.com\" rel=\"nofollow\">Twitter Web Client</a>',\n 'in_reply_to_status_id': None,\n 'in_reply_to_status_id_str': None,\n 'in_reply_to_user_id': None,\n 'in_reply_to_user_id_str': None,\n 'in_reply_to_screen_name': None,\n 'user': {'id': 36007617,\n  'id_str': '36007617',\n  'name': 'B Hoch',\n  'screen_name': 'bahoch',\n  'location': 'Rural village in middle USA',\n  'description': 'Believe in catching the brass ring I have traveled the globe and forged a family from diversity.',\n  'url': None,\n  'entities': {'description': {'urls': []}},\n  'protected': False,\n  'followers_count': 183,\n  'friends_count': 1597,\n  'listed_count': 2,\n  'created_at': 'Tue Apr 28 06:27:13 +0000 2009',\n  'favourites_count': 2887,\n  'utc_offset': None,\n  'time_zone': None,\n  'geo_enabled': False,\n  'verified': False,\n  'statuses_count': 16615,\n  'lang': None,\n  'contributors_enabled': False,\n  'is_translator': False,\n  'is_translation_enabled': False,\n  'profile_background_color': '8B542B',\n  'profile_background_image_url': 'http://abs.twimg.com/images/themes/theme8/bg.gif',\n  'profile_background_image_url_https': 'https://abs.twimg.com/images/themes/theme8/bg.gif',\n  'profile_background_tile': False,\n  'profile_image_url': 'http://abs.twimg.com/sticky/default_profile_images/default_profile_normal.png',\n  'profile_image_url_https': 'https://abs.twimg.com/sticky/default_profile_images/default_profile_normal.png',\n  'profile_link_color': '9D582E',\n  'profile_sidebar_border_color': 'D9B17E',\n  'profile_sidebar_fill_color': 'EADEAA',\n  'profile_text_color': '333333',\n  'profile_use_background_image': True,\n  'has_extended_profile': False,\n  'default_profile': False,\n  'default_profile_image': True,\n  'following': False,\n  'follow_request_sent': False,\n  'notifications': False,\n  'translator_type': 'none'},\n 'geo': None,\n 'coordinates': None,\n 'place': None,\n 'contributors': None,\n 'is_quote_status': False,\n 'retweet_count': 0,\n 'favorite_count': 0,\n 'favorited': False,\n 'retweeted': False,\n 'possibly_sensitive': False,\n 'lang': 'en'}"
     },
     "metadata": {},
     "execution_count": 4
    }
   ],
   "source": [
    "# view first status\n",
    "response['statuses'][0]"
   ]
  },
  {
   "cell_type": "markdown",
   "metadata": {},
   "source": [
    "### Search for keyword \"news\", return 100 tweets per request"
   ]
  },
  {
   "cell_type": "code",
   "execution_count": 5,
   "metadata": {},
   "outputs": [],
   "source": [
    "# send request to the search/tweets endpoint\n",
    "response = twitter.request(endpoint='search/tweets', \n",
    "                           params={'q': 'news',\n",
    "                                   'count': 100})"
   ]
  },
  {
   "cell_type": "code",
   "execution_count": 6,
   "metadata": {},
   "outputs": [
    {
     "output_type": "execute_result",
     "data": {
      "text/plain": "100"
     },
     "metadata": {},
     "execution_count": 6
    }
   ],
   "source": [
    "# length of statuses is now 100\n",
    "len(response['statuses'])"
   ]
  }
 ]
}