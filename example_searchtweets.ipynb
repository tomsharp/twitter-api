{
 "nbformat": 4,
 "nbformat_minor": 2,
 "metadata": {
  "language_info": {
   "name": "python",
   "codemirror_mode": {
    "name": "ipython",
    "version": 3
   },
   "version": "3.7.4-final"
  },
  "orig_nbformat": 2,
  "file_extension": ".py",
  "mimetype": "text/x-python",
  "name": "python",
  "npconvert_exporter": "python",
  "pygments_lexer": "ipython3",
  "version": 3,
  "kernelspec": {
   "name": "python3",
   "display_name": "Python 3"
  }
 },
 "cells": [
  {
   "cell_type": "code",
   "execution_count": 1,
   "metadata": {},
   "outputs": [],
   "source": [
    "from Twitter import twitter"
   ]
  },
  {
   "cell_type": "markdown",
   "metadata": {},
   "source": [
    "### Search for keyword \"news\""
   ]
  },
  {
   "cell_type": "code",
   "execution_count": 2,
   "metadata": {},
   "outputs": [],
   "source": [
    "# connect to Twitter\n",
    "connection = twitter.connect(config_file='./twitter/config.yaml')\n",
    "\n",
    "# send request to the search/tweets endpoint\n",
    "response = twitter.request(connection, endpoint='search/tweets', params={'q': 'news'})"
   ]
  },
  {
   "cell_type": "code",
   "execution_count": 3,
   "metadata": {},
   "outputs": [
    {
     "output_type": "stream",
     "name": "stdout",
     "text": "<class 'dict'>\ndict_keys(['statuses', 'search_metadata'])\n<class 'list'>\n15\n"
    }
   ],
   "source": [
    "# inspect response\n",
    "print(type(response))\n",
    "print(response.keys())\n",
    "\n",
    "print(type(response['statuses']))\n",
    "print(len(response['statuses']))"
   ]
  },
  {
   "cell_type": "code",
   "execution_count": 4,
   "metadata": {
    "tags": [
     "outputPrepend"
    ]
   },
   "outputs": [
    {
     "output_type": "execute_result",
     "data": {
      "text/plain": "{'created_at': 'Sun Apr 19 16:51:05 +0000 2020',\n 'id': 1251916237317091329,\n 'id_str': '1251916237317091329',\n 'text': 'RT @Nigel_Farage: The very same establishment who sold us out to Brussels were also selling us out to Beijing. These people hate our countr…',\n 'truncated': False,\n 'entities': {'hashtags': [],\n  'symbols': [],\n  'user_mentions': [{'screen_name': 'Nigel_Farage',\n    'name': 'Nigel Farage',\n    'id': 19017675,\n    'id_str': '19017675',\n    'indices': [3, 16]}],\n  'urls': []},\n 'metadata': {'iso_language_code': 'en', 'result_type': 'recent'},\n 'source': '<a href=\"http://twitter.com/download/iphone\" rel=\"nofollow\">Twitter for iPhone</a>',\n 'in_reply_to_status_id': None,\n 'in_reply_to_status_id_str': None,\n 'in_reply_to_user_id': None,\n 'in_reply_to_user_id_str': None,\n 'in_reply_to_screen_name': None,\n 'user': {'id': 1210247329212559361,\n  'id_str': '1210247329212559361',\n  'name': 'Gina',\n  'screen_name': 'Gina33767118',\n  'location': 'Nevada, USA',\n  'description': 'So grateful my daddy taught me to think, keep my mouth shut and ears open.  And God for giving me the desire to research.  oh can’t forget Q for that either.',\n  'url': None,\n  'entities': {'description': {'urls': []}},\n  'protected': False,\n  'followers_count': 50,\n  'friends_count': 189,\n  'listed_count': 0,\n  'created_at': 'Thu Dec 26 17:14:06 +0000 2019',\n  'favourites_count': 6092,\n  'utc_offset': None,\n  'time_zone': None,\n  'geo_enabled': False,\n  'verified': False,\n  'statuses_count': 1222,\n  'lang': None,\n  'contributors_enabled': False,\n  'is_translator': False,\n  'is_translation_enabled': False,\n  'profile_background_color': 'F5F8FA',\n  'profile_background_image_url': None,\n  'profile_background_image_url_https': None,\n  'profile_background_tile': False,\n  'profile_image_url': 'http://abs.twimg.com/sticky/default_profile_images/default_profile_normal.png',\n  'profile_image_url_https': 'https://abs.twimg.com/sticky/default_profile_images/default_profile_normal.png',\n  'profile_link_color': '1DA1F2',\n  'profile_sidebar_border_color': 'C0DEED',\n  'profile_sidebar_fill_color': 'DDEEF6',\n  'profile_text_color': '333333',\n  'profile_use_background_image': True,\n  'has_extended_profile': True,\n  'default_profile': True,\n  'default_profile_image': True,\n  'following': False,\n  'follow_request_sent': False,\n  'notifications': False,\n  'translator_type': 'none'},\n 'geo': None,\n 'coordinates': None,\n 'place': None,\n 'contributors': None,\n 'retweeted_status': {'created_at': 'Sun Apr 19 08:48:10 +0000 2020',\n  'id': 1251794708025823232,\n  'id_str': '1251794708025823232',\n  'text': 'The very same establishment who sold us out to Brussels were also selling us out to Beijing. These people hate our… https://t.co/jlOyFDJwAK',\n  'truncated': True,\n  'entities': {'hashtags': [],\n   'symbols': [],\n   'user_mentions': [],\n   'urls': [{'url': 'https://t.co/jlOyFDJwAK',\n     'expanded_url': 'https://twitter.com/i/web/status/1251794708025823232',\n     'display_url': 'twitter.com/i/web/status/1…',\n     'indices': [116, 139]}]},\n  'metadata': {'iso_language_code': 'en', 'result_type': 'recent'},\n  'source': '<a href=\"http://twitter.com/download/iphone\" rel=\"nofollow\">Twitter for iPhone</a>',\n  'in_reply_to_status_id': None,\n  'in_reply_to_status_id_str': None,\n  'in_reply_to_user_id': None,\n  'in_reply_to_user_id_str': None,\n  'in_reply_to_screen_name': None,\n  'user': {'id': 19017675,\n   'id_str': '19017675',\n   'name': 'Nigel Farage',\n   'screen_name': 'Nigel_Farage',\n   'location': '',\n   'description': 'Leader of @BrexitParty_UK.',\n   'url': 'https://t.co/UpU9eEx2sm',\n   'entities': {'url': {'urls': [{'url': 'https://t.co/UpU9eEx2sm',\n       'expanded_url': 'http://thebrexitparty.org',\n       'display_url': 'thebrexitparty.org',\n       'indices': [0, 23]}]},\n    'description': {'urls': []}},\n   'protected': False,\n   'followers_count': 1559454,\n   'friends_count': 484,\n   'listed_count': 6617,\n   'created_at': 'Thu Jan 15 10:37:07 +0000 2009',\n   'favourites_count': 174,\n   'utc_offset': None,\n   'time_zone': None,\n   'geo_enabled': True,\n   'verified': True,\n   'statuses_count': 15617,\n   'lang': None,\n   'contributors_enabled': False,\n   'is_translator': False,\n   'is_translation_enabled': False,\n   'profile_background_color': '722889',\n   'profile_background_image_url': 'http://abs.twimg.com/images/themes/theme10/bg.gif',\n   'profile_background_image_url_https': 'https://abs.twimg.com/images/themes/theme10/bg.gif',\n   'profile_background_tile': True,\n   'profile_image_url': 'http://pbs.twimg.com/profile_images/1245317683698155520/qykOsfLt_normal.jpg',\n   'profile_image_url_https': 'https://pbs.twimg.com/profile_images/1245317683698155520/qykOsfLt_normal.jpg',\n   'profile_banner_url': 'https://pbs.twimg.com/profile_banners/19017675/1580949317',\n   'profile_link_color': '722889',\n   'profile_sidebar_border_color': 'FFFFFF',\n   'profile_sidebar_fill_color': '7AC3EE',\n   'profile_text_color': '3D1957',\n   'profile_use_background_image': True,\n   'has_extended_profile': False,\n   'default_profile': False,\n   'default_profile_image': False,\n   'following': False,\n   'follow_request_sent': False,\n   'notifications': False,\n   'translator_type': 'none'},\n  'geo': None,\n  'coordinates': None,\n  'place': None,\n  'contributors': None,\n  'is_quote_status': False,\n  'retweet_count': 3996,\n  'favorite_count': 9211,\n  'favorited': False,\n  'retweeted': False,\n  'possibly_sensitive': False,\n  'lang': 'en'},\n 'is_quote_status': False,\n 'retweet_count': 3996,\n 'favorite_count': 0,\n 'favorited': False,\n 'retweeted': False,\n 'lang': 'en'}"
     },
     "metadata": {},
     "execution_count": 4
    }
   ],
   "source": [
    "# view first status\n",
    "response['statuses'][0]"
   ]
  },
  {
   "cell_type": "markdown",
   "metadata": {},
   "source": [
    "### Search for keyword \"news\", return 100 tweets per request"
   ]
  },
  {
   "cell_type": "code",
   "execution_count": 5,
   "metadata": {},
   "outputs": [],
   "source": [
    "# send request to the search/tweets endpoint\n",
    "response = twitter.request(endpoint='search/tweets', \n",
    "                           params={'q': 'news',\n",
    "                                   'count': 100})"
   ]
  },
  {
   "cell_type": "code",
   "execution_count": 6,
   "metadata": {},
   "outputs": [
    {
     "output_type": "execute_result",
     "data": {
      "text/plain": "100"
     },
     "metadata": {},
     "execution_count": 6
    }
   ],
   "source": [
    "# length of statuses is now 100\n",
    "len(response['statuses'])"
   ]
  }
 ]
}